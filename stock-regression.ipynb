{
 "cells": [
  {
   "cell_type": "code",
   "execution_count": 43,
   "metadata": {},
   "outputs": [
    {
     "name": "stdout",
     "output_type": "stream",
     "text": [
      "5y\n"
     ]
    },
    {
     "data": {
      "text/html": [
       "<div>\n",
       "<style scoped>\n",
       "    .dataframe tbody tr th:only-of-type {\n",
       "        vertical-align: middle;\n",
       "    }\n",
       "\n",
       "    .dataframe tbody tr th {\n",
       "        vertical-align: top;\n",
       "    }\n",
       "\n",
       "    .dataframe thead th {\n",
       "        text-align: right;\n",
       "    }\n",
       "</style>\n",
       "<table border=\"1\" class=\"dataframe\">\n",
       "  <thead>\n",
       "    <tr style=\"text-align: right;\">\n",
       "      <th></th>\n",
       "      <th>open</th>\n",
       "      <th>high</th>\n",
       "      <th>low</th>\n",
       "      <th>close</th>\n",
       "    </tr>\n",
       "    <tr>\n",
       "      <th>date</th>\n",
       "      <th></th>\n",
       "      <th></th>\n",
       "      <th></th>\n",
       "      <th></th>\n",
       "    </tr>\n",
       "  </thead>\n",
       "  <tbody>\n",
       "    <tr>\n",
       "      <th>2016-01-04</th>\n",
       "      <td>106.6524</td>\n",
       "      <td>106.8181</td>\n",
       "      <td>105.3757</td>\n",
       "      <td>106.7206</td>\n",
       "    </tr>\n",
       "    <tr>\n",
       "      <th>2016-01-05</th>\n",
       "      <td>107.2469</td>\n",
       "      <td>107.3834</td>\n",
       "      <td>106.0384</td>\n",
       "      <td>106.5355</td>\n",
       "    </tr>\n",
       "    <tr>\n",
       "      <th>2016-01-06</th>\n",
       "      <td>104.7032</td>\n",
       "      <td>106.1261</td>\n",
       "      <td>104.6837</td>\n",
       "      <td>105.5121</td>\n",
       "    </tr>\n",
       "    <tr>\n",
       "      <th>2016-01-07</th>\n",
       "      <td>103.2705</td>\n",
       "      <td>104.5667</td>\n",
       "      <td>102.1497</td>\n",
       "      <td>102.2082</td>\n",
       "    </tr>\n",
       "    <tr>\n",
       "      <th>2016-01-08</th>\n",
       "      <td>102.9878</td>\n",
       "      <td>103.5921</td>\n",
       "      <td>101.2628</td>\n",
       "      <td>101.3700</td>\n",
       "    </tr>\n",
       "  </tbody>\n",
       "</table>\n",
       "</div>"
      ],
      "text/plain": [
       "                open      high       low     close\n",
       "date                                              \n",
       "2016-01-04  106.6524  106.8181  105.3757  106.7206\n",
       "2016-01-05  107.2469  107.3834  106.0384  106.5355\n",
       "2016-01-06  104.7032  106.1261  104.6837  105.5121\n",
       "2016-01-07  103.2705  104.5667  102.1497  102.2082\n",
       "2016-01-08  102.9878  103.5921  101.2628  101.3700"
      ]
     },
     "execution_count": 43,
     "metadata": {},
     "output_type": "execute_result"
    }
   ],
   "source": [
    "import pandas as pd\n",
    "pd.core.common.is_list_like = pd.api.types.is_list_like\n",
    "from pandas_datareader import data as web\n",
    "import numpy as np\n",
    "from sklearn import mixture as mix\n",
    "import seaborn as sns\n",
    "import matplotlib.pyplot as plt\n",
    "import talib as ta\n",
    "from sklearn.preprocessing import StandardScaler\n",
    "from sklearn.svm import SVC\n",
    "import datetime\n",
    "\n",
    "ticker = 'QQQ'\n",
    "start = datetime.datetime(2016,1,1)\n",
    "end = datetime.date.today()\n",
    "\n",
    "df = web.DataReader(ticker, 'iex', start, end)\n",
    "columns = ['open', 'high', 'low', 'close']\n",
    "df=df[columns]\n",
    "df.head()"
   ]
  },
  {
   "cell_type": "code",
   "execution_count": 44,
   "metadata": {},
   "outputs": [],
   "source": [
    "# Model hyperparameters\n",
    "n = 10\n",
    "t = 0.8\n",
    "split = int(t*len(df))"
   ]
  },
  {
   "cell_type": "code",
   "execution_count": 45,
   "metadata": {},
   "outputs": [],
   "source": [
    "# shift data for only past data\n",
    "df['high'] = df['high'].shift(1)\n",
    "df['low'] = df['low'].shift(1)\n",
    "df['close'] = df['close'].shift(1)"
   ]
  },
  {
   "cell_type": "code",
   "execution_count": 46,
   "metadata": {},
   "outputs": [
    {
     "name": "stdout",
     "output_type": "stream",
     "text": [
      "                open      high       low     close\n",
      "date                                              \n",
      "2016-01-04  106.6524       NaN       NaN       NaN\n",
      "2016-01-05  107.2469  106.8181  105.3757  106.7206\n",
      "2016-01-06  104.7032  107.3834  106.0384  106.5355\n",
      "2016-01-07  103.2705  106.1261  104.6837  105.5121\n",
      "2016-01-08  102.9878  104.5667  102.1497  102.2082\n",
      "                open      high       low     close        RSI       SMA  Corr  \\\n",
      "date                                                                            \n",
      "2016-02-02  101.3310  102.1399  100.6098  101.7598  47.848522  99.69656   1.0   \n",
      "2016-02-03  100.1907  101.3310   99.2551   99.5572  40.897414  99.80279   1.0   \n",
      "2016-02-04   98.7775  100.2199   97.3448   99.0796  39.514398  99.89148   1.0   \n",
      "2016-02-05   98.7190   99.8545   97.8906   99.0699  39.484267  99.96945   1.0   \n",
      "2016-02-08   93.8849   98.7580   95.2396   95.6295  30.360593  99.41879   1.0   \n",
      "\n",
      "                  SAR        ADX    Return  \n",
      "date                                        \n",
      "2016-02-02   97.71520  52.282307  0.003372  \n",
      "2016-02-03   98.60014  50.331044 -0.011317  \n",
      "2016-02-04  102.13990  49.694479 -0.014206  \n",
      "2016-02-05  101.33100  49.121569 -0.000592  \n",
      "2016-02-08  100.53376  49.849777 -0.050208  \n"
     ]
    }
   ],
   "source": [
    "# Add indicators to dataframe\n",
    "print(df.head())\n",
    "df['RSI'] = ta.RSI(np.array(df['close']), timeperiod=n)\n",
    "df['SMA'] = df['close'].rolling(window=n).mean()\n",
    "df['Corr'] = df['close'].rolling(window=n).corr(df['close'])\n",
    "df['SAR'] = ta.SAR(np.array(df['high']), np.array(df['low']), 0.2, 0.2)\n",
    "df['ADX'] = ta.ADX(np.array(df['high']), np.array(df['low']), np.array(df['close']), timeperiod=n)\n",
    "df['Return'] = np.log(df['open']/df['open'].shift(1))\n",
    "df=df.dropna()\n",
    "print(df.head())"
   ]
  },
  {
   "cell_type": "code",
   "execution_count": 51,
   "metadata": {},
   "outputs": [
    {
     "name": "stderr",
     "output_type": "stream",
     "text": [
      "/Users/ryancollins/anaconda3/lib/python3.5/site-packages/seaborn/axisgrid.py:230: UserWarning: The `size` paramter has been renamed to `height`; please update your code.\n",
      "  warnings.warn(msg, UserWarning)\n"
     ]
    },
    {
     "data": {
      "image/png": "[encoded data removed]",
      "text/plain": [
       "<Figure size 622x288 with 1 Axes>"
      ]
     },
     "metadata": {
      "needs_background": "light"
     },
     "output_type": "display_data"
    },
    {
     "name": "stdout",
     "output_type": "stream",
     "text": [
      "Mean for regime 0:  -0.9484084905580388\n",
      "Co-Variance for regime 0 0.22833217675788164\n",
      "Mean for regime 1:  0.44290722037492863\n",
      "Co-Variance for regime 1 0.2126030326243701\n",
      "Mean for regime 2:  -0.49669642180154466\n",
      "Co-Variance for regime 2 1.1051455992316728\n",
      "Mean for regime 3:  1.410436216636871\n",
      "Co-Variance for regime 3 0.3599414344908162\n"
     ]
    }
   ],
   "source": [
    "ss = StandardScaler()\n",
    "unsup = mix.GaussianMixture(n_components=4, covariance_type='spherical', n_init=100, random_state=42)\n",
    "unsup.fit(\n",
    "    np.reshape(ss.fit_transform(df[:split]), (-1, df.shape[1]))\n",
    ")\n",
    "regime = unsup.predict(\n",
    "    np.reshape(ss.fit_transform(df[split:]), (-1, df.shape[1]))\n",
    ")\n",
    "Regimes = pd.DataFrame(\n",
    "    regime,\n",
    "    columns=['Regime'],\n",
    "    index=df[split:].index\n",
    ").join(\n",
    "    df[split:],\n",
    "    how='inner'\n",
    ").assign(\n",
    "    market_cu_return=df[split:].Return.cumsum()\n",
    ").reset_index(\n",
    "    drop=False\n",
    ").rename(columns={ 'index': 'date' })\n",
    "\n",
    "order=[0,1,2,3]\n",
    "fig = sns.FacetGrid(data=Regimes, hue='Regime', hue_order=order, aspect=2, size=4)\n",
    "fig.map(plt.scatter, 'date', 'market_cu_return', s=4).add_legend()\n",
    "plt.show()\n",
    "\n",
    "for i in order:\n",
    "    print('Mean for regime %i: '%i, unsup.means_[i][0])\n",
    "    print('Co-Variance for regime %i'%i, (unsup.covariances_[i]))"
   ]
  },
  {
   "cell_type": "code",
   "execution_count": 53,
   "metadata": {},
   "outputs": [
    {
     "name": "stderr",
     "output_type": "stream",
     "text": [
      "/Users/ryancollins/anaconda3/lib/python3.5/site-packages/sklearn/preprocessing/data.py:617: DataConversionWarning: Data with input dtype int64, float64 were all converted to float64 by StandardScaler.\n",
      "  return self.partial_fit(X, y)\n",
      "/Users/ryancollins/anaconda3/lib/python3.5/site-packages/sklearn/base.py:462: DataConversionWarning: Data with input dtype int64, float64 were all converted to float64 by StandardScaler.\n",
      "  return self.fit(X, **fit_params).transform(X)\n"
     ]
    },
    {
     "data": {
      "image/png": "[encoded data removed]",
      "text/plain": [
       "<Figure size 432x288 with 1 Axes>"
      ]
     },
     "metadata": {
      "needs_background": "light"
     },
     "output_type": "display_data"
    }
   ],
   "source": [
    "ss1 = StandardScaler()\n",
    "columns = Regimes.columns.drop(['Regime', 'date'])\n",
    "Regimes[columns] = ss1.fit_transform(Regimes[columns])\n",
    "Regimes['Signal'] = 0\n",
    "Regimes.loc[Regimes['Return']>0, 'Signal'] = 1\n",
    "Regimes.loc[Regimes['Return']<0, 'Signal'] = -1\n",
    "\n",
    "cls = SVC(\n",
    "    C = 1.0,\n",
    "    cache_size=200,\n",
    "    class_weight=None,\n",
    "    coef0=0.0,\n",
    "    decision_function_shape=None,\n",
    "    degree=3,\n",
    "    gamma='auto',\n",
    "    kernel='rbf',\n",
    "    max_iter=-1,\n",
    "    probability=False,\n",
    "    random_state=None,\n",
    "    shrinking=True,\n",
    "    tol=0.001,\n",
    "    verbose=False\n",
    ")\n",
    "split2 = int(.8*len(Regimes))\n",
    "x = Regimes.drop(['Signal', 'Return', 'market_cu_return', 'date'], axis=1)\n",
    "y = Regimes['Signal']\n",
    "cls.fit(x[:split2], y[:split2])\n",
    "p_data = len(x)-split2\n",
    "df['Pred_Signal']=0\n",
    "df.iloc[-p_data:, df.columns.get_loc('Pred_Signal')] = cls.predict(x[split2:])\n",
    "df['str_ret'] = df['Pred_Signal']*df['Return'].shift(-1)\n",
    "\n",
    "df['strategy_cu_return']=0.\n",
    "df['market_cu_return']=0.\n",
    "df.iloc[-p_data:, df.columns.get_loc('strategy_cu_return')] = np.nancumsum(df['str_ret'][-p_data:])\n",
    "df.iloc[-p_data:, df.columns.get_loc('market_cu_return')] = np.nancumsum(df['Return'][-p_data:])\n",
    "Sharpe = (df['strategy_cu_return'][-1] - df['market_cu_return'][-1]) / np.nanstd(df['strategy_cu_return'][-p_data:])\n",
    "\n",
    "plt.plot(df['strategy_cu_return'][-p_data:], color='g', label='Strategy Returns')\n",
    "plt.plot(df['market_cu_return'][-p_data:], color='r', label='Market Returns')\n",
    "plt.figtext(0.14, 0.9, s='Sharpe ratio: %.2f'%Sharpe)\n",
    "plt.legend(loc='best')\n",
    "plt.show()"
   ]
  },
  {
   "cell_type": "code",
   "execution_count": null,
   "metadata": {},
   "outputs": [],
   "source": []
  }
 ],
 "metadata": {
  "kernelspec": {
   "display_name": "Python 3",
   "language": "python",
   "name": "python3"
  },
  "language_info": {
   "codemirror_mode": {
    "name": "ipython",
    "version": 3
   },
   "file_extension": ".py",
   "mimetype": "text/x-python",
   "name": "python",
   "nbconvert_exporter": "python",
   "pygments_lexer": "ipython3",
   "version": "3.5.6"
  }
 },
 "nbformat": 4,
 "nbformat_minor": 2
}
